{
 "cells": [
  {
   "cell_type": "code",
   "execution_count": null,
   "id": "03f9e5c7",
   "metadata": {},
   "outputs": [],
   "source": [
    "import pandas as pd\n",
    "import numpy as np\n",
    "import os\n",
    "import matplotlib.pyplot as plt\n",
    "from pandas import DataFrame\n",
    "import scipy.stats as stats"
   ]
  },
  {
   "cell_type": "code",
   "execution_count": null,
   "id": "90dd7586",
   "metadata": {},
   "outputs": [],
   "source": [
    "from IPython.display import display, HTML\n",
    "display(HTML(\"<style>pre { white-space: pre !important; }</style>\"))"
   ]
  },
  {
   "cell_type": "code",
   "execution_count": null,
   "id": "9e890b9f",
   "metadata": {},
   "outputs": [],
   "source": [
    "data_folder = \"../data/DS_case_to_delete/DS Challange - Churn - Data/\""
   ]
  },
  {
   "cell_type": "code",
   "execution_count": null,
   "id": "7e96c301",
   "metadata": {},
   "outputs": [],
   "source": [
    "for i in os.listdir(data_folder):\n",
    "    print(i)"
   ]
  },
  {
   "cell_type": "code",
   "execution_count": null,
   "id": "3c36ea84",
   "metadata": {},
   "outputs": [],
   "source": [
    "df_vars = pd.read_csv(os.path.join(data_folder, \"case_training_data.csv\"))\n",
    "df_target = pd.read_csv(os.path.join(data_folder, \"case_training_output.csv\"))"
   ]
  },
  {
   "cell_type": "code",
   "execution_count": null,
   "id": "a36dfb3c",
   "metadata": {},
   "outputs": [],
   "source": [
    "pd.set_option('display.max_columns', 40)"
   ]
  },
  {
   "cell_type": "code",
   "execution_count": null,
   "id": "cfc2332e",
   "metadata": {},
   "outputs": [],
   "source": [
    "df_vars.head()"
   ]
  },
  {
   "cell_type": "code",
   "execution_count": null,
   "id": "1d8c2e14",
   "metadata": {},
   "outputs": [],
   "source": [
    "df_target.head()"
   ]
  },
  {
   "cell_type": "markdown",
   "id": "f0517557",
   "metadata": {},
   "source": [
    "JOIN target and features by contract_id"
   ]
  },
  {
   "cell_type": "code",
   "execution_count": null,
   "id": "40c04c4e",
   "metadata": {},
   "outputs": [],
   "source": [
    "df = df_vars.merge(df_target, on='contract_id')"
   ]
  },
  {
   "cell_type": "code",
   "execution_count": null,
   "id": "c334cfbb",
   "metadata": {},
   "outputs": [],
   "source": [
    "df.columns"
   ]
  },
  {
   "cell_type": "markdown",
   "id": "7ca796b4",
   "metadata": {},
   "source": [
    "# Target"
   ]
  },
  {
   "cell_type": "code",
   "execution_count": null,
   "id": "c349e598",
   "metadata": {},
   "outputs": [],
   "source": [
    "target = \"has_churned_over_next_3m\"\n",
    "df[target].value_counts().plot.bar()\n",
    "plt.show()"
   ]
  },
  {
   "cell_type": "markdown",
   "id": "5c0de2ec",
   "metadata": {},
   "source": [
    "# Variable Types"
   ]
  },
  {
   "cell_type": "code",
   "execution_count": null,
   "id": "30449253",
   "metadata": {},
   "outputs": [],
   "source": [
    "cat_vars = [var for var in df.columns if df[var].dtype == 'O']\n",
    "cat_vars.remove('contract_id')"
   ]
  },
  {
   "cell_type": "code",
   "execution_count": null,
   "id": "e6e57688",
   "metadata": {},
   "outputs": [],
   "source": [
    "cat_vars"
   ]
  },
  {
   "cell_type": "code",
   "execution_count": null,
   "id": "207b889e",
   "metadata": {},
   "outputs": [],
   "source": [
    "# cast all variables as categorical\n",
    "df[cat_vars] = df[cat_vars].astype('O')"
   ]
  },
  {
   "cell_type": "code",
   "execution_count": null,
   "id": "58611ff5",
   "metadata": {},
   "outputs": [],
   "source": [
    "# now let's identify the numerical variables\n",
    "\n",
    "num_vars = [\n",
    "    var for var in df.columns if var not in cat_vars and var != target\n",
    "]\n",
    "num_vars.remove('contract_id')\n",
    "num_vars.remove('campaing_code_elect')\n",
    "# number of numerical variables\n",
    "len(num_vars)"
   ]
  },
  {
   "cell_type": "code",
   "execution_count": null,
   "id": "11a83975",
   "metadata": {},
   "outputs": [],
   "source": [
    "num_vars"
   ]
  },
  {
   "cell_type": "markdown",
   "id": "b16eba25",
   "metadata": {},
   "source": [
    "# Missing Values"
   ]
  },
  {
   "cell_type": "code",
   "execution_count": null,
   "id": "1cbdeaaa",
   "metadata": {},
   "outputs": [],
   "source": [
    "# make a list of the variables that contain missing values\n",
    "vars_with_na = [var for var in df.columns if df[var].isnull().sum() > 0]\n",
    "\n",
    "# determine percentage of missing values (expressed as decimals)\n",
    "# and display the result ordered by % of missin data\n",
    "\n",
    "df[vars_with_na].isnull().mean().sort_values(ascending=False)"
   ]
  },
  {
   "cell_type": "code",
   "execution_count": null,
   "id": "0a28e7f4",
   "metadata": {},
   "outputs": [],
   "source": [
    "# df.drop('campaing_code_elect', axis=1, inplace=True)"
   ]
  },
  {
   "cell_type": "code",
   "execution_count": null,
   "id": "ea0e40db",
   "metadata": {},
   "outputs": [],
   "source": [
    "# now we can determine which variables, from those with missing data,\n",
    "# are numerical and which are categorical\n",
    "\n",
    "cat_na = [var for var in cat_vars if var in vars_with_na]\n",
    "num_na = [var for var in num_vars if var in vars_with_na]\n",
    "\n",
    "print('Number of categorical variables with na: ', len(cat_na))\n",
    "print('Number of numerical variables with na: ', len(num_na))"
   ]
  },
  {
   "cell_type": "code",
   "execution_count": null,
   "id": "6441a29b",
   "metadata": {},
   "outputs": [],
   "source": [
    "cat_na"
   ]
  },
  {
   "cell_type": "code",
   "execution_count": null,
   "id": "784a3aa3",
   "metadata": {},
   "outputs": [],
   "source": [
    "num_na"
   ]
  },
  {
   "cell_type": "markdown",
   "id": "519d4d16",
   "metadata": {},
   "source": [
    "# Relationship between missing data and Sale Price"
   ]
  },
  {
   "cell_type": "code",
   "execution_count": null,
   "id": "88134591",
   "metadata": {},
   "outputs": [],
   "source": [
    "def analyse_na_value(df: DataFrame, var: str):\n",
    "\n",
    "    # copy of the dataframe, so that we do not override the original data\n",
    "    # see the link for more details about pandas.copy()\n",
    "    # https://pandas.pydata.org/pandas-docs/stable/reference/api/pandas.DataFrame.copy.html\n",
    "    df = df.copy()\n",
    "\n",
    "    # let's make an interim variable that indicates 1 if the\n",
    "    # observation was missing or 0 otherwise\n",
    "    df[var] = np.where(df[var].isnull(), 1, 0)\n",
    "\n",
    "    # let's compare the median SalePrice in the observations where data is missing\n",
    "    # vs the observations where data is available\n",
    "\n",
    "    # determine the median price in the groups 1 and 0,\n",
    "    # and the standard deviation of the sale price,\n",
    "    # and we capture the results in a temporary dataset\n",
    "    tmp = df.groupby(var)[target].agg(['mean', 'std'])\n",
    "\n",
    "    # plot into a bar graph\n",
    "    tmp.plot(kind=\"barh\", y=\"mean\", legend=False,\n",
    "             xerr=\"std\", title=target, color='green')\n",
    "\n",
    "    plt.show()"
   ]
  },
  {
   "cell_type": "code",
   "execution_count": null,
   "id": "0962594b",
   "metadata": {
    "scrolled": false
   },
   "outputs": [],
   "source": [
    "# let's run the function on each variable with missing data\n",
    "\n",
    "for var in vars_with_na:\n",
    "    analyse_na_value(df, var)"
   ]
  },
  {
   "cell_type": "markdown",
   "id": "c229e0fd",
   "metadata": {},
   "source": [
    "# Numerical variables"
   ]
  },
  {
   "cell_type": "code",
   "execution_count": null,
   "id": "e2caab44",
   "metadata": {},
   "outputs": [],
   "source": [
    "print('Number of numerical variables: ', len(num_vars))\n",
    "\n",
    "# visualise the numerical variables\n",
    "df[['contract_id'] + num_vars].head()"
   ]
  },
  {
   "cell_type": "markdown",
   "id": "d06d95e4",
   "metadata": {},
   "source": [
    "# Temporal Variables"
   ]
  },
  {
   "cell_type": "code",
   "execution_count": null,
   "id": "4de90e49",
   "metadata": {},
   "outputs": [],
   "source": [
    "# list of variables that contain year information\n",
    "\n",
    "year_vars = [var for var in df.columns if 'date' in var]\n",
    "\n",
    "year_vars"
   ]
  },
  {
   "cell_type": "code",
   "execution_count": null,
   "id": "02ebe8b4",
   "metadata": {},
   "outputs": [],
   "source": [
    "# let's explore the values of these temporal variables\n",
    "\n",
    "for var in year_vars:\n",
    "    print(var, df[var].unique())\n",
    "    print()"
   ]
  },
  {
   "cell_type": "markdown",
   "id": "1796df2c",
   "metadata": {},
   "source": [
    "# Discrete variables"
   ]
  },
  {
   "cell_type": "code",
   "execution_count": null,
   "id": "c8e0322e",
   "metadata": {},
   "outputs": [],
   "source": [
    "#  let's male a list of discrete variables\n",
    "discrete_vars = [var for var in num_vars if len(\n",
    "    df[var].unique()) < 20 and var not in year_vars]\n",
    "\n",
    "\n",
    "print('Number of discrete variables: ', len(discrete_vars))"
   ]
  },
  {
   "cell_type": "code",
   "execution_count": null,
   "id": "49f45d77",
   "metadata": {},
   "outputs": [],
   "source": [
    "# let's visualise the discrete variables\n",
    "\n",
    "df[discrete_vars].head()"
   ]
  },
  {
   "cell_type": "code",
   "execution_count": null,
   "id": "eb8f2865",
   "metadata": {},
   "outputs": [],
   "source": [
    "df[[target]+discrete_vars].corr()"
   ]
  },
  {
   "cell_type": "markdown",
   "id": "20ab527a",
   "metadata": {},
   "source": [
    "# Continuous variables"
   ]
  },
  {
   "cell_type": "code",
   "execution_count": null,
   "id": "cc8b4ff4",
   "metadata": {},
   "outputs": [],
   "source": [
    "# make list of continuous variables\n",
    "cont_vars = [\n",
    "    var for var in num_vars if var not in discrete_vars+year_vars]\n",
    "\n",
    "print('Number of continuous variables: ', len(cont_vars))"
   ]
  },
  {
   "cell_type": "code",
   "execution_count": null,
   "id": "ee0cbc20",
   "metadata": {},
   "outputs": [],
   "source": [
    "cont_vars"
   ]
  },
  {
   "cell_type": "code",
   "execution_count": null,
   "id": "9d51f5ce",
   "metadata": {},
   "outputs": [],
   "source": [
    "# let's visualise the continuous variables\n",
    "\n",
    "df[cont_vars].head()"
   ]
  },
  {
   "cell_type": "code",
   "execution_count": null,
   "id": "0e154099",
   "metadata": {},
   "outputs": [],
   "source": [
    "# lets plot histograms for all continuous variables\n",
    "\n",
    "df[cont_vars].hist(bins=30, figsize=(15,15))\n",
    "plt.show()"
   ]
  },
  {
   "cell_type": "code",
   "execution_count": null,
   "id": "a4fb4fcf",
   "metadata": {},
   "outputs": [],
   "source": [
    "# first make a list with the super skewed variables\n",
    "# for later\n",
    "\n",
    "skewed = [\n",
    "    'elect_cons_at_12m', 'gas_cons_at_12m', 'elect_cons_last_month']"
   ]
  },
  {
   "cell_type": "code",
   "execution_count": null,
   "id": "4839ebe1",
   "metadata": {},
   "outputs": [],
   "source": [
    "cont_vars = [\n",
    "    'elect_cons_at_12m', 'gas_cons_at_12m', 'elect_cons_last_month',\n",
    "    'fcst_bill_baseline_elect_next_month',\n",
    " 'fcst_bill_baseline_elect_cal_year',\n",
    " 'fcst_bill_baseline_elect_12m',\n",
    " 'fcst_consumption_elect_next_month',\n",
    " 'fcst_consumption_elect_12m',\n",
    " 'fcst_consumption_elect_cal_year',\n",
    " 'fcst_bill_meter_rent_12m',\n",
    " 'fcst_price_period_1',\n",
    " 'fcst_price_period_2',\n",
    " 'fcst_price_power_period_1',\n",
    " 'total_net_margin',\n",
    " 'subscribed_power'\n",
    "]"
   ]
  },
  {
   "cell_type": "code",
   "execution_count": null,
   "id": "e04cc368",
   "metadata": {},
   "outputs": [],
   "source": []
  },
  {
   "cell_type": "markdown",
   "id": "423daaff",
   "metadata": {},
   "source": [
    "Yeo-Johnson transformation"
   ]
  },
  {
   "cell_type": "code",
   "execution_count": null,
   "id": "272a0838",
   "metadata": {},
   "outputs": [],
   "source": [
    "# Let's go ahead and analyse the distributions of the variables\n",
    "# after applying a yeo-johnson transformation\n",
    "\n",
    "# temporary copy of the data\n",
    "tmp = df.copy()\n",
    "\n",
    "for var in cont_vars:\n",
    "\n",
    "    # transform the variable - yeo-johsnon\n",
    "    tmp[var], param = stats.yeojohnson(df[var])\n",
    "\n",
    "    \n",
    "# plot the histograms of the transformed variables\n",
    "tmp[cont_vars].hist(bins=30, figsize=(15,15))\n",
    "plt.show()"
   ]
  },
  {
   "cell_type": "markdown",
   "id": "802b3a05",
   "metadata": {},
   "source": [
    "Logarithmic transformation"
   ]
  },
  {
   "cell_type": "code",
   "execution_count": null,
   "id": "9fd33bc9",
   "metadata": {},
   "outputs": [],
   "source": [
    "# Let's go ahead and analyse the distributions of these variables\n",
    "# after applying a logarithmic transformation\n",
    "\n",
    "tmp = df.copy()\n",
    "\n",
    "for var in cont_vars:\n",
    "\n",
    "    # transform the variable with logarithm\n",
    "    tmp[var] = np.log(df[var])\n",
    "    \n",
    "tmp[cont_vars].hist(bins=30)\n",
    "plt.show()"
   ]
  },
  {
   "cell_type": "code",
   "execution_count": null,
   "id": "f451aac9",
   "metadata": {},
   "outputs": [],
   "source": []
  }
 ],
 "metadata": {
  "kernelspec": {
   "display_name": "churn_env",
   "language": "python",
   "name": "churn_env"
  },
  "language_info": {
   "codemirror_mode": {
    "name": "ipython",
    "version": 3
   },
   "file_extension": ".py",
   "mimetype": "text/x-python",
   "name": "python",
   "nbconvert_exporter": "python",
   "pygments_lexer": "ipython3",
   "version": "3.8.6"
  }
 },
 "nbformat": 4,
 "nbformat_minor": 5
}
